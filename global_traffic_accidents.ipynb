{
 "cells": [
  {
   "cell_type": "code",
   "execution_count": 100,
   "metadata": {},
   "outputs": [],
   "source": [
    "import pandas as pd\n",
    "import numpy as np\n",
    "import seaborn as sns\n",
    "import ast\n",
    "from datetime import datetime \n",
    "import matplotlib.pyplot as plt\n",
    "import plotly.express as px"
   ]
  },
  {
   "cell_type": "markdown",
   "metadata": {},
   "source": [
    "<h3>Load the dataset and view all lines</h3>"
   ]
  },
  {
   "cell_type": "code",
   "execution_count": 64,
   "metadata": {},
   "outputs": [
    {
     "data": {
      "text/html": [
       "<div>\n",
       "<style scoped>\n",
       "    .dataframe tbody tr th:only-of-type {\n",
       "        vertical-align: middle;\n",
       "    }\n",
       "\n",
       "    .dataframe tbody tr th {\n",
       "        vertical-align: top;\n",
       "    }\n",
       "\n",
       "    .dataframe thead th {\n",
       "        text-align: right;\n",
       "    }\n",
       "</style>\n",
       "<table border=\"1\" class=\"dataframe\">\n",
       "  <thead>\n",
       "    <tr style=\"text-align: right;\">\n",
       "      <th></th>\n",
       "      <th>Accident ID</th>\n",
       "      <th>Date</th>\n",
       "      <th>Time</th>\n",
       "      <th>Location</th>\n",
       "      <th>Latitude</th>\n",
       "      <th>Longitude</th>\n",
       "      <th>Weather Condition</th>\n",
       "      <th>Road Condition</th>\n",
       "      <th>Vehicles Involved</th>\n",
       "      <th>Casualties</th>\n",
       "      <th>Cause</th>\n",
       "    </tr>\n",
       "  </thead>\n",
       "  <tbody>\n",
       "    <tr>\n",
       "      <th>0</th>\n",
       "      <td>b0dd6f57</td>\n",
       "      <td>2023-04-19</td>\n",
       "      <td>06:39</td>\n",
       "      <td>Mumbai, India</td>\n",
       "      <td>13.488432</td>\n",
       "      <td>-73.290682</td>\n",
       "      <td>Snow</td>\n",
       "      <td>Snowy</td>\n",
       "      <td>5</td>\n",
       "      <td>7</td>\n",
       "      <td>Reckless Driving</td>\n",
       "    </tr>\n",
       "    <tr>\n",
       "      <th>1</th>\n",
       "      <td>debfad09</td>\n",
       "      <td>2023-01-17</td>\n",
       "      <td>02:47</td>\n",
       "      <td>São Paulo, Brazil</td>\n",
       "      <td>-37.798317</td>\n",
       "      <td>-32.244242</td>\n",
       "      <td>Clear</td>\n",
       "      <td>Icy</td>\n",
       "      <td>4</td>\n",
       "      <td>1</td>\n",
       "      <td>Drunk Driving</td>\n",
       "    </tr>\n",
       "    <tr>\n",
       "      <th>2</th>\n",
       "      <td>6d69aa36</td>\n",
       "      <td>2024-04-09</td>\n",
       "      <td>02:55</td>\n",
       "      <td>Sydney, Australia</td>\n",
       "      <td>33.767869</td>\n",
       "      <td>104.869018</td>\n",
       "      <td>Rain</td>\n",
       "      <td>Snowy</td>\n",
       "      <td>1</td>\n",
       "      <td>7</td>\n",
       "      <td>Reckless Driving</td>\n",
       "    </tr>\n",
       "    <tr>\n",
       "      <th>3</th>\n",
       "      <td>425bb1f0</td>\n",
       "      <td>2023-10-10</td>\n",
       "      <td>11:23</td>\n",
       "      <td>Tokyo, Japan</td>\n",
       "      <td>-0.378031</td>\n",
       "      <td>-165.825855</td>\n",
       "      <td>Storm</td>\n",
       "      <td>Wet</td>\n",
       "      <td>4</td>\n",
       "      <td>0</td>\n",
       "      <td>Drunk Driving</td>\n",
       "    </tr>\n",
       "    <tr>\n",
       "      <th>4</th>\n",
       "      <td>90d5cf62</td>\n",
       "      <td>2023-01-02</td>\n",
       "      <td>12:07</td>\n",
       "      <td>Beijing, China</td>\n",
       "      <td>41.254879</td>\n",
       "      <td>-30.776959</td>\n",
       "      <td>Storm</td>\n",
       "      <td>Snowy</td>\n",
       "      <td>3</td>\n",
       "      <td>9</td>\n",
       "      <td>Reckless Driving</td>\n",
       "    </tr>\n",
       "    <tr>\n",
       "      <th>...</th>\n",
       "      <td>...</td>\n",
       "      <td>...</td>\n",
       "      <td>...</td>\n",
       "      <td>...</td>\n",
       "      <td>...</td>\n",
       "      <td>...</td>\n",
       "      <td>...</td>\n",
       "      <td>...</td>\n",
       "      <td>...</td>\n",
       "      <td>...</td>\n",
       "      <td>...</td>\n",
       "    </tr>\n",
       "    <tr>\n",
       "      <th>9995</th>\n",
       "      <td>2d26c7e2</td>\n",
       "      <td>2023-01-10</td>\n",
       "      <td>18:41</td>\n",
       "      <td>Paris, France</td>\n",
       "      <td>-41.344055</td>\n",
       "      <td>109.335620</td>\n",
       "      <td>Storm</td>\n",
       "      <td>Wet</td>\n",
       "      <td>3</td>\n",
       "      <td>10</td>\n",
       "      <td>Distracted Driving</td>\n",
       "    </tr>\n",
       "    <tr>\n",
       "      <th>9996</th>\n",
       "      <td>4d236cfd</td>\n",
       "      <td>2023-04-04</td>\n",
       "      <td>16:48</td>\n",
       "      <td>São Paulo, Brazil</td>\n",
       "      <td>-60.765148</td>\n",
       "      <td>-10.432225</td>\n",
       "      <td>Storm</td>\n",
       "      <td>Dry</td>\n",
       "      <td>3</td>\n",
       "      <td>9</td>\n",
       "      <td>Weather Conditions</td>\n",
       "    </tr>\n",
       "    <tr>\n",
       "      <th>9997</th>\n",
       "      <td>1d32722f</td>\n",
       "      <td>2024-09-30</td>\n",
       "      <td>14:43</td>\n",
       "      <td>Beijing, China</td>\n",
       "      <td>-11.161278</td>\n",
       "      <td>-72.164379</td>\n",
       "      <td>Snow</td>\n",
       "      <td>Under Construction</td>\n",
       "      <td>2</td>\n",
       "      <td>3</td>\n",
       "      <td>Weather Conditions</td>\n",
       "    </tr>\n",
       "    <tr>\n",
       "      <th>9998</th>\n",
       "      <td>64722572</td>\n",
       "      <td>2024-10-27</td>\n",
       "      <td>18:34</td>\n",
       "      <td>Sydney, Australia</td>\n",
       "      <td>-17.153524</td>\n",
       "      <td>20.803006</td>\n",
       "      <td>Storm</td>\n",
       "      <td>Under Construction</td>\n",
       "      <td>4</td>\n",
       "      <td>3</td>\n",
       "      <td>Drunk Driving</td>\n",
       "    </tr>\n",
       "    <tr>\n",
       "      <th>9999</th>\n",
       "      <td>96272c1b</td>\n",
       "      <td>2024-10-26</td>\n",
       "      <td>10:30</td>\n",
       "      <td>Toronto, Canada</td>\n",
       "      <td>21.917486</td>\n",
       "      <td>100.486079</td>\n",
       "      <td>Storm</td>\n",
       "      <td>Icy</td>\n",
       "      <td>5</td>\n",
       "      <td>4</td>\n",
       "      <td>Mechanical Failure</td>\n",
       "    </tr>\n",
       "  </tbody>\n",
       "</table>\n",
       "<p>10000 rows × 11 columns</p>\n",
       "</div>"
      ],
      "text/plain": [
       "     Accident ID        Date   Time           Location   Latitude   Longitude  \\\n",
       "0       b0dd6f57  2023-04-19  06:39      Mumbai, India  13.488432  -73.290682   \n",
       "1       debfad09  2023-01-17  02:47  São Paulo, Brazil -37.798317  -32.244242   \n",
       "2       6d69aa36  2024-04-09  02:55  Sydney, Australia  33.767869  104.869018   \n",
       "3       425bb1f0  2023-10-10  11:23       Tokyo, Japan  -0.378031 -165.825855   \n",
       "4       90d5cf62  2023-01-02  12:07     Beijing, China  41.254879  -30.776959   \n",
       "...          ...         ...    ...                ...        ...         ...   \n",
       "9995    2d26c7e2  2023-01-10  18:41      Paris, France -41.344055  109.335620   \n",
       "9996    4d236cfd  2023-04-04  16:48  São Paulo, Brazil -60.765148  -10.432225   \n",
       "9997    1d32722f  2024-09-30  14:43     Beijing, China -11.161278  -72.164379   \n",
       "9998    64722572  2024-10-27  18:34  Sydney, Australia -17.153524   20.803006   \n",
       "9999    96272c1b  2024-10-26  10:30    Toronto, Canada  21.917486  100.486079   \n",
       "\n",
       "     Weather Condition      Road Condition  Vehicles Involved  Casualties  \\\n",
       "0                 Snow               Snowy                  5           7   \n",
       "1                Clear                 Icy                  4           1   \n",
       "2                 Rain               Snowy                  1           7   \n",
       "3                Storm                 Wet                  4           0   \n",
       "4                Storm               Snowy                  3           9   \n",
       "...                ...                 ...                ...         ...   \n",
       "9995             Storm                 Wet                  3          10   \n",
       "9996             Storm                 Dry                  3           9   \n",
       "9997              Snow  Under Construction                  2           3   \n",
       "9998             Storm  Under Construction                  4           3   \n",
       "9999             Storm                 Icy                  5           4   \n",
       "\n",
       "                   Cause  \n",
       "0       Reckless Driving  \n",
       "1          Drunk Driving  \n",
       "2       Reckless Driving  \n",
       "3          Drunk Driving  \n",
       "4       Reckless Driving  \n",
       "...                  ...  \n",
       "9995  Distracted Driving  \n",
       "9996  Weather Conditions  \n",
       "9997  Weather Conditions  \n",
       "9998       Drunk Driving  \n",
       "9999  Mechanical Failure  \n",
       "\n",
       "[10000 rows x 11 columns]"
      ]
     },
     "execution_count": 64,
     "metadata": {},
     "output_type": "execute_result"
    }
   ],
   "source": [
    "csv = pd.read_csv('global_traffic_accidents.csv')\n",
    "accidents_df = pd.DataFrame(csv)\n",
    "accidents_df"
   ]
  },
  {
   "cell_type": "markdown",
   "metadata": {},
   "source": [
    "<h3>Checking the stats</h3>"
   ]
  },
  {
   "cell_type": "code",
   "execution_count": 4,
   "metadata": {},
   "outputs": [
    {
     "data": {
      "text/html": [
       "<div>\n",
       "<style scoped>\n",
       "    .dataframe tbody tr th:only-of-type {\n",
       "        vertical-align: middle;\n",
       "    }\n",
       "\n",
       "    .dataframe tbody tr th {\n",
       "        vertical-align: top;\n",
       "    }\n",
       "\n",
       "    .dataframe thead th {\n",
       "        text-align: right;\n",
       "    }\n",
       "</style>\n",
       "<table border=\"1\" class=\"dataframe\">\n",
       "  <thead>\n",
       "    <tr style=\"text-align: right;\">\n",
       "      <th></th>\n",
       "      <th>Latitude</th>\n",
       "      <th>Longitude</th>\n",
       "      <th>Vehicles Involved</th>\n",
       "      <th>Casualties</th>\n",
       "    </tr>\n",
       "  </thead>\n",
       "  <tbody>\n",
       "    <tr>\n",
       "      <th>count</th>\n",
       "      <td>10000.000000</td>\n",
       "      <td>10000.000000</td>\n",
       "      <td>10000.000000</td>\n",
       "      <td>10000.00000</td>\n",
       "    </tr>\n",
       "    <tr>\n",
       "      <th>mean</th>\n",
       "      <td>-0.543557</td>\n",
       "      <td>0.338573</td>\n",
       "      <td>2.999100</td>\n",
       "      <td>4.98820</td>\n",
       "    </tr>\n",
       "    <tr>\n",
       "      <th>std</th>\n",
       "      <td>51.917928</td>\n",
       "      <td>103.379168</td>\n",
       "      <td>1.408935</td>\n",
       "      <td>3.13015</td>\n",
       "    </tr>\n",
       "    <tr>\n",
       "      <th>min</th>\n",
       "      <td>-89.985688</td>\n",
       "      <td>-179.961984</td>\n",
       "      <td>1.000000</td>\n",
       "      <td>0.00000</td>\n",
       "    </tr>\n",
       "    <tr>\n",
       "      <th>25%</th>\n",
       "      <td>-45.426619</td>\n",
       "      <td>-88.231733</td>\n",
       "      <td>2.000000</td>\n",
       "      <td>2.00000</td>\n",
       "    </tr>\n",
       "    <tr>\n",
       "      <th>50%</th>\n",
       "      <td>-1.080556</td>\n",
       "      <td>-0.682727</td>\n",
       "      <td>3.000000</td>\n",
       "      <td>5.00000</td>\n",
       "    </tr>\n",
       "    <tr>\n",
       "      <th>75%</th>\n",
       "      <td>44.137309</td>\n",
       "      <td>89.973059</td>\n",
       "      <td>4.000000</td>\n",
       "      <td>8.00000</td>\n",
       "    </tr>\n",
       "    <tr>\n",
       "      <th>max</th>\n",
       "      <td>89.990081</td>\n",
       "      <td>179.981695</td>\n",
       "      <td>5.000000</td>\n",
       "      <td>10.00000</td>\n",
       "    </tr>\n",
       "  </tbody>\n",
       "</table>\n",
       "</div>"
      ],
      "text/plain": [
       "           Latitude     Longitude  Vehicles Involved   Casualties\n",
       "count  10000.000000  10000.000000       10000.000000  10000.00000\n",
       "mean      -0.543557      0.338573           2.999100      4.98820\n",
       "std       51.917928    103.379168           1.408935      3.13015\n",
       "min      -89.985688   -179.961984           1.000000      0.00000\n",
       "25%      -45.426619    -88.231733           2.000000      2.00000\n",
       "50%       -1.080556     -0.682727           3.000000      5.00000\n",
       "75%       44.137309     89.973059           4.000000      8.00000\n",
       "max       89.990081    179.981695           5.000000     10.00000"
      ]
     },
     "execution_count": 4,
     "metadata": {},
     "output_type": "execute_result"
    }
   ],
   "source": [
    "accidents_df.describe()"
   ]
  },
  {
   "cell_type": "markdown",
   "metadata": {},
   "source": [
    "<h3>Checking the column types</h3>"
   ]
  },
  {
   "cell_type": "code",
   "execution_count": 5,
   "metadata": {},
   "outputs": [
    {
     "name": "stdout",
     "output_type": "stream",
     "text": [
      "<class 'pandas.core.frame.DataFrame'>\n",
      "RangeIndex: 10000 entries, 0 to 9999\n",
      "Data columns (total 11 columns):\n",
      " #   Column             Non-Null Count  Dtype  \n",
      "---  ------             --------------  -----  \n",
      " 0   Accident ID        10000 non-null  object \n",
      " 1   Date               10000 non-null  object \n",
      " 2   Time               10000 non-null  object \n",
      " 3   Location           10000 non-null  object \n",
      " 4   Latitude           10000 non-null  float64\n",
      " 5   Longitude          10000 non-null  float64\n",
      " 6   Weather Condition  10000 non-null  object \n",
      " 7   Road Condition     10000 non-null  object \n",
      " 8   Vehicles Involved  10000 non-null  int64  \n",
      " 9   Casualties         10000 non-null  int64  \n",
      " 10  Cause              10000 non-null  object \n",
      "dtypes: float64(2), int64(2), object(7)\n",
      "memory usage: 859.5+ KB\n"
     ]
    }
   ],
   "source": [
    "accidents_df.info()"
   ]
  },
  {
   "cell_type": "markdown",
   "metadata": {},
   "source": [
    "<h3>Checking the null values</h3>"
   ]
  },
  {
   "cell_type": "code",
   "execution_count": 6,
   "metadata": {},
   "outputs": [
    {
     "data": {
      "text/plain": [
       "Accident ID          0\n",
       "Date                 0\n",
       "Time                 0\n",
       "Location             0\n",
       "Latitude             0\n",
       "Longitude            0\n",
       "Weather Condition    0\n",
       "Road Condition       0\n",
       "Vehicles Involved    0\n",
       "Casualties           0\n",
       "Cause                0\n",
       "dtype: int64"
      ]
     },
     "execution_count": 6,
     "metadata": {},
     "output_type": "execute_result"
    }
   ],
   "source": [
    "accidents_df.isnull().sum()"
   ]
  },
  {
   "cell_type": "markdown",
   "metadata": {},
   "source": [
    "<h3>Weather Condition counts</h3>"
   ]
  },
  {
   "cell_type": "code",
   "execution_count": 7,
   "metadata": {},
   "outputs": [
    {
     "data": {
      "text/plain": [
       "Weather Condition\n",
       "Rain     1681\n",
       "Clear    1674\n",
       "Hail     1673\n",
       "Snow     1667\n",
       "Fog      1660\n",
       "Storm    1645\n",
       "Name: count, dtype: int64"
      ]
     },
     "execution_count": 7,
     "metadata": {},
     "output_type": "execute_result"
    }
   ],
   "source": [
    "weatherCondition_df = accidents_df\n",
    "weatherCondition_df = weatherCondition_df.sort_values(by='Weather Condition')\n",
    "weatherCondition_df['Weather Condition'].value_counts()"
   ]
  },
  {
   "cell_type": "code",
   "execution_count": 8,
   "metadata": {},
   "outputs": [
    {
     "data": {
      "text/plain": [
       "Cause\n",
       "Drunk Driving         1716\n",
       "Reckless Driving      1685\n",
       "Weather Conditions    1657\n",
       "Speeding              1656\n",
       "Mechanical Failure    1653\n",
       "Distracted Driving    1633\n",
       "Name: count, dtype: int64"
      ]
     },
     "execution_count": 8,
     "metadata": {},
     "output_type": "execute_result"
    }
   ],
   "source": [
    "weatherCondition_df.Cause.value_counts()"
   ]
  },
  {
   "cell_type": "code",
   "execution_count": null,
   "metadata": {},
   "outputs": [
    {
     "data": {
      "image/png": "[encoded data removed]",
      "text/plain": [
       "<Figure size 1400x600 with 1 Axes>"
      ]
     },
     "metadata": {},
     "output_type": "display_data"
    }
   ],
   "source": [
    "plot = sns.catplot(weatherCondition_df, x='Weather Condition', hue=\"Vehicles Involved\", kind='count', palette=\"ch:start=.2,rot=-.3\")\n",
    "plot.figure.set_size_inches(14,6)\n",
    "plot.set_titles(\"Count of accidents \")"
   ]
  },
  {
   "cell_type": "markdown",
   "metadata": {},
   "source": [
    "<h3>Casualties of causes per vehicles involvided</h3>"
   ]
  },
  {
   "cell_type": "code",
   "execution_count": 114,
   "metadata": {},
   "outputs": [
    {
     "data": {
      "text/plain": [
       "<seaborn.axisgrid.FacetGrid at 0x186090dde10>"
      ]
     },
     "execution_count": 114,
     "metadata": {},
     "output_type": "execute_result"
    },
    {
     "data": {
      "image/png": "[encoded data removed]",
      "text/plain": [
       "<Figure size 1400x600 with 1 Axes>"
      ]
     },
     "metadata": {},
     "output_type": "display_data"
    }
   ],
   "source": [
    "plot = sns.catplot(accidents_df, x= \"Cause\", y= \"Casualties\", hue=\"Vehicles Involved\", kind=\"bar\", palette=\"rocket_r\")\n",
    "plot.figure.set_size_inches(14,6)\n",
    "plot"
   ]
  },
  {
   "cell_type": "markdown",
   "metadata": {},
   "source": [
    "<h3>Density of casualties per vehicles involvided </h3>"
   ]
  },
  {
   "cell_type": "code",
   "execution_count": 32,
   "metadata": {},
   "outputs": [
    {
     "data": {
      "text/plain": [
       "<seaborn.axisgrid.FacetGrid at 0x216b39c4b20>"
      ]
     },
     "execution_count": 32,
     "metadata": {},
     "output_type": "execute_result"
    },
    {
     "data": {
      "image/png": "[encoded data removed]",
      "text/plain": [
       "<Figure size 631.111x500 with 1 Axes>"
      ]
     },
     "metadata": {},
     "output_type": "display_data"
    }
   ],
   "source": [
    "plot = sns.displot(weatherCondition_df, x= \"Casualties\", hue=\"Vehicles Involved\", kind=\"kde\", multiple=\"stack\", palette=\"ch:s=-.2,r=.6\")\n",
    "plot"
   ]
  },
  {
   "cell_type": "markdown",
   "metadata": {},
   "source": [
    "<h3>Count of causes per weekday</h3>"
   ]
  },
  {
   "cell_type": "code",
   "execution_count": 108,
   "metadata": {},
   "outputs": [
    {
     "data": {
      "text/html": [
       "<div>\n",
       "<style scoped>\n",
       "    .dataframe tbody tr th:only-of-type {\n",
       "        vertical-align: middle;\n",
       "    }\n",
       "\n",
       "    .dataframe tbody tr th {\n",
       "        vertical-align: top;\n",
       "    }\n",
       "\n",
       "    .dataframe thead th {\n",
       "        text-align: right;\n",
       "    }\n",
       "</style>\n",
       "<table border=\"1\" class=\"dataframe\">\n",
       "  <thead>\n",
       "    <tr style=\"text-align: right;\">\n",
       "      <th></th>\n",
       "      <th>Accident ID</th>\n",
       "      <th>Date</th>\n",
       "      <th>Time</th>\n",
       "      <th>Location</th>\n",
       "      <th>Latitude</th>\n",
       "      <th>Longitude</th>\n",
       "      <th>Weather Condition</th>\n",
       "      <th>Road Condition</th>\n",
       "      <th>Vehicles Involved</th>\n",
       "      <th>Casualties</th>\n",
       "      <th>Cause</th>\n",
       "      <th>Day</th>\n",
       "      <th>Month</th>\n",
       "      <th>Year</th>\n",
       "      <th>Weekday</th>\n",
       "    </tr>\n",
       "  </thead>\n",
       "  <tbody>\n",
       "    <tr>\n",
       "      <th>0</th>\n",
       "      <td>b0dd6f57</td>\n",
       "      <td>2023-04-19</td>\n",
       "      <td>06:39</td>\n",
       "      <td>Mumbai, India</td>\n",
       "      <td>13.488432</td>\n",
       "      <td>-73.290682</td>\n",
       "      <td>Snow</td>\n",
       "      <td>Snowy</td>\n",
       "      <td>5</td>\n",
       "      <td>7</td>\n",
       "      <td>Reckless Driving</td>\n",
       "      <td>19</td>\n",
       "      <td>4</td>\n",
       "      <td>2023</td>\n",
       "      <td>Wednesday</td>\n",
       "    </tr>\n",
       "    <tr>\n",
       "      <th>1</th>\n",
       "      <td>debfad09</td>\n",
       "      <td>2023-01-17</td>\n",
       "      <td>02:47</td>\n",
       "      <td>São Paulo, Brazil</td>\n",
       "      <td>-37.798317</td>\n",
       "      <td>-32.244242</td>\n",
       "      <td>Clear</td>\n",
       "      <td>Icy</td>\n",
       "      <td>4</td>\n",
       "      <td>1</td>\n",
       "      <td>Drunk Driving</td>\n",
       "      <td>17</td>\n",
       "      <td>1</td>\n",
       "      <td>2023</td>\n",
       "      <td>Tuesday</td>\n",
       "    </tr>\n",
       "    <tr>\n",
       "      <th>2</th>\n",
       "      <td>6d69aa36</td>\n",
       "      <td>2024-04-09</td>\n",
       "      <td>02:55</td>\n",
       "      <td>Sydney, Australia</td>\n",
       "      <td>33.767869</td>\n",
       "      <td>104.869018</td>\n",
       "      <td>Rain</td>\n",
       "      <td>Snowy</td>\n",
       "      <td>1</td>\n",
       "      <td>7</td>\n",
       "      <td>Reckless Driving</td>\n",
       "      <td>9</td>\n",
       "      <td>4</td>\n",
       "      <td>2024</td>\n",
       "      <td>Tuesday</td>\n",
       "    </tr>\n",
       "    <tr>\n",
       "      <th>3</th>\n",
       "      <td>425bb1f0</td>\n",
       "      <td>2023-10-10</td>\n",
       "      <td>11:23</td>\n",
       "      <td>Tokyo, Japan</td>\n",
       "      <td>-0.378031</td>\n",
       "      <td>-165.825855</td>\n",
       "      <td>Storm</td>\n",
       "      <td>Wet</td>\n",
       "      <td>4</td>\n",
       "      <td>0</td>\n",
       "      <td>Drunk Driving</td>\n",
       "      <td>10</td>\n",
       "      <td>10</td>\n",
       "      <td>2023</td>\n",
       "      <td>Tuesday</td>\n",
       "    </tr>\n",
       "    <tr>\n",
       "      <th>4</th>\n",
       "      <td>90d5cf62</td>\n",
       "      <td>2023-01-02</td>\n",
       "      <td>12:07</td>\n",
       "      <td>Beijing, China</td>\n",
       "      <td>41.254879</td>\n",
       "      <td>-30.776959</td>\n",
       "      <td>Storm</td>\n",
       "      <td>Snowy</td>\n",
       "      <td>3</td>\n",
       "      <td>9</td>\n",
       "      <td>Reckless Driving</td>\n",
       "      <td>2</td>\n",
       "      <td>1</td>\n",
       "      <td>2023</td>\n",
       "      <td>Monday</td>\n",
       "    </tr>\n",
       "  </tbody>\n",
       "</table>\n",
       "</div>"
      ],
      "text/plain": [
       "  Accident ID       Date   Time           Location   Latitude   Longitude  \\\n",
       "0    b0dd6f57 2023-04-19  06:39      Mumbai, India  13.488432  -73.290682   \n",
       "1    debfad09 2023-01-17  02:47  São Paulo, Brazil -37.798317  -32.244242   \n",
       "2    6d69aa36 2024-04-09  02:55  Sydney, Australia  33.767869  104.869018   \n",
       "3    425bb1f0 2023-10-10  11:23       Tokyo, Japan  -0.378031 -165.825855   \n",
       "4    90d5cf62 2023-01-02  12:07     Beijing, China  41.254879  -30.776959   \n",
       "\n",
       "  Weather Condition Road Condition  Vehicles Involved  Casualties  \\\n",
       "0              Snow          Snowy                  5           7   \n",
       "1             Clear            Icy                  4           1   \n",
       "2              Rain          Snowy                  1           7   \n",
       "3             Storm            Wet                  4           0   \n",
       "4             Storm          Snowy                  3           9   \n",
       "\n",
       "              Cause  Day  Month  Year    Weekday  \n",
       "0  Reckless Driving   19      4  2023  Wednesday  \n",
       "1     Drunk Driving   17      1  2023    Tuesday  \n",
       "2  Reckless Driving    9      4  2024    Tuesday  \n",
       "3     Drunk Driving   10     10  2023    Tuesday  \n",
       "4  Reckless Driving    2      1  2023     Monday  "
      ]
     },
     "execution_count": 108,
     "metadata": {},
     "output_type": "execute_result"
    }
   ],
   "source": [
    "accidents_df['Date']= pd.to_datetime(accidents_df['Date'])\n",
    "accidents_df.head()"
   ]
  },
  {
   "cell_type": "code",
   "execution_count": 70,
   "metadata": {},
   "outputs": [
    {
     "data": {
      "text/html": [
       "<div>\n",
       "<style scoped>\n",
       "    .dataframe tbody tr th:only-of-type {\n",
       "        vertical-align: middle;\n",
       "    }\n",
       "\n",
       "    .dataframe tbody tr th {\n",
       "        vertical-align: top;\n",
       "    }\n",
       "\n",
       "    .dataframe thead th {\n",
       "        text-align: right;\n",
       "    }\n",
       "</style>\n",
       "<table border=\"1\" class=\"dataframe\">\n",
       "  <thead>\n",
       "    <tr style=\"text-align: right;\">\n",
       "      <th></th>\n",
       "      <th>Accident ID</th>\n",
       "      <th>Date</th>\n",
       "      <th>Time</th>\n",
       "      <th>Location</th>\n",
       "      <th>Latitude</th>\n",
       "      <th>Longitude</th>\n",
       "      <th>Weather Condition</th>\n",
       "      <th>Road Condition</th>\n",
       "      <th>Vehicles Involved</th>\n",
       "      <th>Casualties</th>\n",
       "      <th>Cause</th>\n",
       "      <th>Day</th>\n",
       "      <th>Month</th>\n",
       "      <th>Year</th>\n",
       "    </tr>\n",
       "  </thead>\n",
       "  <tbody>\n",
       "    <tr>\n",
       "      <th>0</th>\n",
       "      <td>b0dd6f57</td>\n",
       "      <td>2023-04-19</td>\n",
       "      <td>06:39</td>\n",
       "      <td>Mumbai, India</td>\n",
       "      <td>13.488432</td>\n",
       "      <td>-73.290682</td>\n",
       "      <td>Snow</td>\n",
       "      <td>Snowy</td>\n",
       "      <td>5</td>\n",
       "      <td>7</td>\n",
       "      <td>Reckless Driving</td>\n",
       "      <td>19</td>\n",
       "      <td>4</td>\n",
       "      <td>2023</td>\n",
       "    </tr>\n",
       "    <tr>\n",
       "      <th>1</th>\n",
       "      <td>debfad09</td>\n",
       "      <td>2023-01-17</td>\n",
       "      <td>02:47</td>\n",
       "      <td>São Paulo, Brazil</td>\n",
       "      <td>-37.798317</td>\n",
       "      <td>-32.244242</td>\n",
       "      <td>Clear</td>\n",
       "      <td>Icy</td>\n",
       "      <td>4</td>\n",
       "      <td>1</td>\n",
       "      <td>Drunk Driving</td>\n",
       "      <td>17</td>\n",
       "      <td>1</td>\n",
       "      <td>2023</td>\n",
       "    </tr>\n",
       "    <tr>\n",
       "      <th>2</th>\n",
       "      <td>6d69aa36</td>\n",
       "      <td>2024-04-09</td>\n",
       "      <td>02:55</td>\n",
       "      <td>Sydney, Australia</td>\n",
       "      <td>33.767869</td>\n",
       "      <td>104.869018</td>\n",
       "      <td>Rain</td>\n",
       "      <td>Snowy</td>\n",
       "      <td>1</td>\n",
       "      <td>7</td>\n",
       "      <td>Reckless Driving</td>\n",
       "      <td>9</td>\n",
       "      <td>4</td>\n",
       "      <td>2024</td>\n",
       "    </tr>\n",
       "    <tr>\n",
       "      <th>3</th>\n",
       "      <td>425bb1f0</td>\n",
       "      <td>2023-10-10</td>\n",
       "      <td>11:23</td>\n",
       "      <td>Tokyo, Japan</td>\n",
       "      <td>-0.378031</td>\n",
       "      <td>-165.825855</td>\n",
       "      <td>Storm</td>\n",
       "      <td>Wet</td>\n",
       "      <td>4</td>\n",
       "      <td>0</td>\n",
       "      <td>Drunk Driving</td>\n",
       "      <td>10</td>\n",
       "      <td>10</td>\n",
       "      <td>2023</td>\n",
       "    </tr>\n",
       "    <tr>\n",
       "      <th>4</th>\n",
       "      <td>90d5cf62</td>\n",
       "      <td>2023-01-02</td>\n",
       "      <td>12:07</td>\n",
       "      <td>Beijing, China</td>\n",
       "      <td>41.254879</td>\n",
       "      <td>-30.776959</td>\n",
       "      <td>Storm</td>\n",
       "      <td>Snowy</td>\n",
       "      <td>3</td>\n",
       "      <td>9</td>\n",
       "      <td>Reckless Driving</td>\n",
       "      <td>2</td>\n",
       "      <td>1</td>\n",
       "      <td>2023</td>\n",
       "    </tr>\n",
       "  </tbody>\n",
       "</table>\n",
       "</div>"
      ],
      "text/plain": [
       "  Accident ID       Date   Time           Location   Latitude   Longitude  \\\n",
       "0    b0dd6f57 2023-04-19  06:39      Mumbai, India  13.488432  -73.290682   \n",
       "1    debfad09 2023-01-17  02:47  São Paulo, Brazil -37.798317  -32.244242   \n",
       "2    6d69aa36 2024-04-09  02:55  Sydney, Australia  33.767869  104.869018   \n",
       "3    425bb1f0 2023-10-10  11:23       Tokyo, Japan  -0.378031 -165.825855   \n",
       "4    90d5cf62 2023-01-02  12:07     Beijing, China  41.254879  -30.776959   \n",
       "\n",
       "  Weather Condition Road Condition  Vehicles Involved  Casualties  \\\n",
       "0              Snow          Snowy                  5           7   \n",
       "1             Clear            Icy                  4           1   \n",
       "2              Rain          Snowy                  1           7   \n",
       "3             Storm            Wet                  4           0   \n",
       "4             Storm          Snowy                  3           9   \n",
       "\n",
       "              Cause  Day  Month  Year  \n",
       "0  Reckless Driving   19      4  2023  \n",
       "1     Drunk Driving   17      1  2023  \n",
       "2  Reckless Driving    9      4  2024  \n",
       "3     Drunk Driving   10     10  2023  \n",
       "4  Reckless Driving    2      1  2023  "
      ]
     },
     "execution_count": 70,
     "metadata": {},
     "output_type": "execute_result"
    }
   ],
   "source": [
    "date_df = accidents_df\n",
    "date_df['Day'] = date_df['Date'].dt.day\n",
    "date_df['Month'] = date_df['Date'].dt.month\n",
    "date_df['Year'] = date_df['Date'].dt.year\n",
    "date_df.head()"
   ]
  },
  {
   "cell_type": "code",
   "execution_count": 71,
   "metadata": {},
   "outputs": [],
   "source": [
    "date_df[\"Weekday\"] = date_df.apply(lambda row: datetime(row[\"Year\"], row[\"Month\"], row[\"Day\"]).strftime('%A'), axis=1)\n"
   ]
  },
  {
   "cell_type": "code",
   "execution_count": 72,
   "metadata": {},
   "outputs": [
    {
     "data": {
      "text/html": [
       "<div>\n",
       "<style scoped>\n",
       "    .dataframe tbody tr th:only-of-type {\n",
       "        vertical-align: middle;\n",
       "    }\n",
       "\n",
       "    .dataframe tbody tr th {\n",
       "        vertical-align: top;\n",
       "    }\n",
       "\n",
       "    .dataframe thead th {\n",
       "        text-align: right;\n",
       "    }\n",
       "</style>\n",
       "<table border=\"1\" class=\"dataframe\">\n",
       "  <thead>\n",
       "    <tr style=\"text-align: right;\">\n",
       "      <th></th>\n",
       "      <th>Accident ID</th>\n",
       "      <th>Date</th>\n",
       "      <th>Time</th>\n",
       "      <th>Location</th>\n",
       "      <th>Latitude</th>\n",
       "      <th>Longitude</th>\n",
       "      <th>Weather Condition</th>\n",
       "      <th>Road Condition</th>\n",
       "      <th>Vehicles Involved</th>\n",
       "      <th>Casualties</th>\n",
       "      <th>Cause</th>\n",
       "      <th>Day</th>\n",
       "      <th>Month</th>\n",
       "      <th>Year</th>\n",
       "      <th>Weekday</th>\n",
       "    </tr>\n",
       "  </thead>\n",
       "  <tbody>\n",
       "    <tr>\n",
       "      <th>0</th>\n",
       "      <td>b0dd6f57</td>\n",
       "      <td>2023-04-19</td>\n",
       "      <td>06:39</td>\n",
       "      <td>Mumbai, India</td>\n",
       "      <td>13.488432</td>\n",
       "      <td>-73.290682</td>\n",
       "      <td>Snow</td>\n",
       "      <td>Snowy</td>\n",
       "      <td>5</td>\n",
       "      <td>7</td>\n",
       "      <td>Reckless Driving</td>\n",
       "      <td>19</td>\n",
       "      <td>4</td>\n",
       "      <td>2023</td>\n",
       "      <td>Wednesday</td>\n",
       "    </tr>\n",
       "    <tr>\n",
       "      <th>1</th>\n",
       "      <td>debfad09</td>\n",
       "      <td>2023-01-17</td>\n",
       "      <td>02:47</td>\n",
       "      <td>São Paulo, Brazil</td>\n",
       "      <td>-37.798317</td>\n",
       "      <td>-32.244242</td>\n",
       "      <td>Clear</td>\n",
       "      <td>Icy</td>\n",
       "      <td>4</td>\n",
       "      <td>1</td>\n",
       "      <td>Drunk Driving</td>\n",
       "      <td>17</td>\n",
       "      <td>1</td>\n",
       "      <td>2023</td>\n",
       "      <td>Tuesday</td>\n",
       "    </tr>\n",
       "    <tr>\n",
       "      <th>2</th>\n",
       "      <td>6d69aa36</td>\n",
       "      <td>2024-04-09</td>\n",
       "      <td>02:55</td>\n",
       "      <td>Sydney, Australia</td>\n",
       "      <td>33.767869</td>\n",
       "      <td>104.869018</td>\n",
       "      <td>Rain</td>\n",
       "      <td>Snowy</td>\n",
       "      <td>1</td>\n",
       "      <td>7</td>\n",
       "      <td>Reckless Driving</td>\n",
       "      <td>9</td>\n",
       "      <td>4</td>\n",
       "      <td>2024</td>\n",
       "      <td>Tuesday</td>\n",
       "    </tr>\n",
       "    <tr>\n",
       "      <th>3</th>\n",
       "      <td>425bb1f0</td>\n",
       "      <td>2023-10-10</td>\n",
       "      <td>11:23</td>\n",
       "      <td>Tokyo, Japan</td>\n",
       "      <td>-0.378031</td>\n",
       "      <td>-165.825855</td>\n",
       "      <td>Storm</td>\n",
       "      <td>Wet</td>\n",
       "      <td>4</td>\n",
       "      <td>0</td>\n",
       "      <td>Drunk Driving</td>\n",
       "      <td>10</td>\n",
       "      <td>10</td>\n",
       "      <td>2023</td>\n",
       "      <td>Tuesday</td>\n",
       "    </tr>\n",
       "    <tr>\n",
       "      <th>4</th>\n",
       "      <td>90d5cf62</td>\n",
       "      <td>2023-01-02</td>\n",
       "      <td>12:07</td>\n",
       "      <td>Beijing, China</td>\n",
       "      <td>41.254879</td>\n",
       "      <td>-30.776959</td>\n",
       "      <td>Storm</td>\n",
       "      <td>Snowy</td>\n",
       "      <td>3</td>\n",
       "      <td>9</td>\n",
       "      <td>Reckless Driving</td>\n",
       "      <td>2</td>\n",
       "      <td>1</td>\n",
       "      <td>2023</td>\n",
       "      <td>Monday</td>\n",
       "    </tr>\n",
       "  </tbody>\n",
       "</table>\n",
       "</div>"
      ],
      "text/plain": [
       "  Accident ID       Date   Time           Location   Latitude   Longitude  \\\n",
       "0    b0dd6f57 2023-04-19  06:39      Mumbai, India  13.488432  -73.290682   \n",
       "1    debfad09 2023-01-17  02:47  São Paulo, Brazil -37.798317  -32.244242   \n",
       "2    6d69aa36 2024-04-09  02:55  Sydney, Australia  33.767869  104.869018   \n",
       "3    425bb1f0 2023-10-10  11:23       Tokyo, Japan  -0.378031 -165.825855   \n",
       "4    90d5cf62 2023-01-02  12:07     Beijing, China  41.254879  -30.776959   \n",
       "\n",
       "  Weather Condition Road Condition  Vehicles Involved  Casualties  \\\n",
       "0              Snow          Snowy                  5           7   \n",
       "1             Clear            Icy                  4           1   \n",
       "2              Rain          Snowy                  1           7   \n",
       "3             Storm            Wet                  4           0   \n",
       "4             Storm          Snowy                  3           9   \n",
       "\n",
       "              Cause  Day  Month  Year    Weekday  \n",
       "0  Reckless Driving   19      4  2023  Wednesday  \n",
       "1     Drunk Driving   17      1  2023    Tuesday  \n",
       "2  Reckless Driving    9      4  2024    Tuesday  \n",
       "3     Drunk Driving   10     10  2023    Tuesday  \n",
       "4  Reckless Driving    2      1  2023     Monday  "
      ]
     },
     "execution_count": 72,
     "metadata": {},
     "output_type": "execute_result"
    }
   ],
   "source": [
    "date_df.head()"
   ]
  },
  {
   "cell_type": "code",
   "execution_count": 73,
   "metadata": {},
   "outputs": [],
   "source": [
    "orderedDays = pd.CategoricalDtype([\"Monday\", \"Tuesday\", \"Wednesday\", \"Thursday\", \"Friday\"])\n",
    "date_df[\"Weekday\"] = date_df[\"Weekday\"].astype(orderedDays)"
   ]
  },
  {
   "cell_type": "code",
   "execution_count": 126,
   "metadata": {},
   "outputs": [
    {
     "data": {
      "text/plain": [
       "<seaborn.axisgrid.FacetGrid at 0x216c39e81f0>"
      ]
     },
     "execution_count": 126,
     "metadata": {},
     "output_type": "execute_result"
    },
    {
     "data": {
      "image/png": "[encoded data removed]",
      "text/plain": [
       "<Figure size 1200x500 with 1 Axes>"
      ]
     },
     "metadata": {},
     "output_type": "display_data"
    }
   ],
   "source": [
    "plot = sns.catplot(data=date_df, \n",
    "                   x=\"Weekday\", \n",
    "                   hue=\"Cause\", \n",
    "                   kind=\"count\", \n",
    "                   palette=\"rocket_r\",)\n",
    "plot.figure.set_size_inches(12,5)\n",
    "plot.fig.suptitle('Count of causes per weekday', fontsize=20)\n",
    "plot.set_axis_labels(\"Weekdays\", \"Count\", fontsize=18)"
   ]
  },
  {
   "cell_type": "markdown",
   "metadata": {},
   "source": [
    "<h3>Accidents per location</h3>"
   ]
  },
  {
   "cell_type": "code",
   "execution_count": 91,
   "metadata": {},
   "outputs": [
    {
     "data": {
      "text/plain": [
       "Location\n",
       "São Paulo, Brazil    1032\n",
       "New York, USA        1016\n",
       "Beijing, China       1014\n",
       "Sydney, Australia    1006\n",
       "Toronto, Canada      1003\n",
       "London, UK           1000\n",
       "Paris, France         995\n",
       "Tokyo, Japan          989\n",
       "Mumbai, India         987\n",
       "Berlin, Germany       958\n",
       "Name: count, dtype: int64"
      ]
     },
     "execution_count": 91,
     "metadata": {},
     "output_type": "execute_result"
    }
   ],
   "source": [
    "accidents_df['Location'].value_counts()"
   ]
  },
  {
   "cell_type": "code",
   "execution_count": 62,
   "metadata": {},
   "outputs": [
    {
     "data": {
      "text/plain": [
       "10000"
      ]
     },
     "execution_count": 62,
     "metadata": {},
     "output_type": "execute_result"
    }
   ],
   "source": [
    "accidents_df['Accident ID'].value_counts().sum()"
   ]
  },
  {
   "cell_type": "code",
   "execution_count": 84,
   "metadata": {},
   "outputs": [
    {
     "name": "stderr",
     "output_type": "stream",
     "text": [
      "C:\\Users\\vitsi\\AppData\\Local\\Temp\\ipykernel_7116\\2131904217.py:1: FutureWarning: \n",
      "\n",
      "Passing `palette` without assigning `hue` is deprecated and will be removed in v0.14.0. Assign the `x` variable to `hue` and set `legend=False` for the same effect.\n",
      "\n",
      "  plot = sns.catplot(accidents_df,\n"
     ]
    },
    {
     "data": {
      "text/plain": [
       "<seaborn.axisgrid.FacetGrid at 0x216bc6b9a80>"
      ]
     },
     "execution_count": 84,
     "metadata": {},
     "output_type": "execute_result"
    },
    {
     "data": {
      "image/png": "[encoded data removed]",
      "text/plain": [
       "<Figure size 1200x500 with 1 Axes>"
      ]
     },
     "metadata": {},
     "output_type": "display_data"
    }
   ],
   "source": [
    "plot = sns.catplot(accidents_df, \n",
    "                   x='Location', \n",
    "                   kind='count', \n",
    "                   order=accidents_df.Location.value_counts().index,\n",
    "                   palette=\"Paired\")\n",
    "plot.figure.set_size_inches(12,5)\n",
    "plot.set_xticklabels(rotation=10, ha='right')"
   ]
  },
  {
   "cell_type": "markdown",
   "metadata": {},
   "source": [
    "<h3>Mapping all accidents in \"São Paulo, Brazil\"</h3>\n",
    "<p>Note: None of points are in São Paulo</p>"
   ]
  },
  {
   "cell_type": "code",
   "execution_count": 120,
   "metadata": {},
   "outputs": [
    {
     "data": {
      "text/html": [
       "<div>\n",
       "<style scoped>\n",
       "    .dataframe tbody tr th:only-of-type {\n",
       "        vertical-align: middle;\n",
       "    }\n",
       "\n",
       "    .dataframe tbody tr th {\n",
       "        vertical-align: top;\n",
       "    }\n",
       "\n",
       "    .dataframe thead th {\n",
       "        text-align: right;\n",
       "    }\n",
       "</style>\n",
       "<table border=\"1\" class=\"dataframe\">\n",
       "  <thead>\n",
       "    <tr style=\"text-align: right;\">\n",
       "      <th></th>\n",
       "      <th>Location</th>\n",
       "      <th>Latitude</th>\n",
       "      <th>Longitude</th>\n",
       "    </tr>\n",
       "  </thead>\n",
       "  <tbody>\n",
       "    <tr>\n",
       "      <th>0</th>\n",
       "      <td>São Paulo, Brazil</td>\n",
       "      <td>-37.798317</td>\n",
       "      <td>-32.244242</td>\n",
       "    </tr>\n",
       "    <tr>\n",
       "      <th>1</th>\n",
       "      <td>São Paulo, Brazil</td>\n",
       "      <td>-39.332739</td>\n",
       "      <td>0.991049</td>\n",
       "    </tr>\n",
       "    <tr>\n",
       "      <th>2</th>\n",
       "      <td>São Paulo, Brazil</td>\n",
       "      <td>51.568285</td>\n",
       "      <td>-22.209768</td>\n",
       "    </tr>\n",
       "    <tr>\n",
       "      <th>3</th>\n",
       "      <td>São Paulo, Brazil</td>\n",
       "      <td>0.520167</td>\n",
       "      <td>-170.052320</td>\n",
       "    </tr>\n",
       "    <tr>\n",
       "      <th>4</th>\n",
       "      <td>São Paulo, Brazil</td>\n",
       "      <td>-37.075082</td>\n",
       "      <td>-3.632071</td>\n",
       "    </tr>\n",
       "    <tr>\n",
       "      <th>...</th>\n",
       "      <td>...</td>\n",
       "      <td>...</td>\n",
       "      <td>...</td>\n",
       "    </tr>\n",
       "    <tr>\n",
       "      <th>1027</th>\n",
       "      <td>São Paulo, Brazil</td>\n",
       "      <td>-46.378740</td>\n",
       "      <td>4.294878</td>\n",
       "    </tr>\n",
       "    <tr>\n",
       "      <th>1028</th>\n",
       "      <td>São Paulo, Brazil</td>\n",
       "      <td>83.481857</td>\n",
       "      <td>-83.701844</td>\n",
       "    </tr>\n",
       "    <tr>\n",
       "      <th>1029</th>\n",
       "      <td>São Paulo, Brazil</td>\n",
       "      <td>-37.784977</td>\n",
       "      <td>-123.903311</td>\n",
       "    </tr>\n",
       "    <tr>\n",
       "      <th>1030</th>\n",
       "      <td>São Paulo, Brazil</td>\n",
       "      <td>17.673898</td>\n",
       "      <td>-53.073675</td>\n",
       "    </tr>\n",
       "    <tr>\n",
       "      <th>1031</th>\n",
       "      <td>São Paulo, Brazil</td>\n",
       "      <td>-60.765148</td>\n",
       "      <td>-10.432225</td>\n",
       "    </tr>\n",
       "  </tbody>\n",
       "</table>\n",
       "<p>1032 rows × 3 columns</p>\n",
       "</div>"
      ],
      "text/plain": [
       "               Location   Latitude   Longitude\n",
       "0     São Paulo, Brazil -37.798317  -32.244242\n",
       "1     São Paulo, Brazil -39.332739    0.991049\n",
       "2     São Paulo, Brazil  51.568285  -22.209768\n",
       "3     São Paulo, Brazil   0.520167 -170.052320\n",
       "4     São Paulo, Brazil -37.075082   -3.632071\n",
       "...                 ...        ...         ...\n",
       "1027  São Paulo, Brazil -46.378740    4.294878\n",
       "1028  São Paulo, Brazil  83.481857  -83.701844\n",
       "1029  São Paulo, Brazil -37.784977 -123.903311\n",
       "1030  São Paulo, Brazil  17.673898  -53.073675\n",
       "1031  São Paulo, Brazil -60.765148  -10.432225\n",
       "\n",
       "[1032 rows x 3 columns]"
      ]
     },
     "execution_count": 120,
     "metadata": {},
     "output_type": "execute_result"
    }
   ],
   "source": [
    "sp_df = accidents_df.loc[accidents_df['Location'] == 'São Paulo, Brazil', ['Location', 'Latitude', 'Longitude']].reset_index(drop=True)\n",
    "\n",
    "sp_df"
   ]
  },
  {
   "cell_type": "code",
   "execution_count": 131,
   "metadata": {},
   "outputs": [],
   "source": [
    "\n",
    "fig = px.scatter_map(sp_df, \n",
    "                     lat=sp_df.Latitude, \n",
    "                     lon=sp_df.Longitude,\n",
    "                     hover_name=\"Location\", \n",
    "                     zoom=1)\n",
    "fig.write_html(\"mapa_interativo.html\")"
   ]
  },
  {
   "cell_type": "markdown",
   "metadata": {},
   "source": [
    "[🌍 Clique aqui para ver o mapa interativo](https://jvitsilva.github.io/Statistics_for_Data-Science/mapa_interativo.html)"
   ]
  }
 ],
 "metadata": {
  "kernelspec": {
   "display_name": "Python 3",
   "language": "python",
   "name": "python3"
  },
  "language_info": {
   "codemirror_mode": {
    "name": "ipython",
    "version": 3
   },
   "file_extension": ".py",
   "mimetype": "text/x-python",
   "name": "python",
   "nbconvert_exporter": "python",
   "pygments_lexer": "ipython3",
   "version": "3.10.4"
  }
 },
 "nbformat": 4,
 "nbformat_minor": 2
}

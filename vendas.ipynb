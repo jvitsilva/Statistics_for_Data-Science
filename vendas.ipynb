{
 "cells": [
  {
   "cell_type": "code",
   "execution_count": null,
   "metadata": {},
   "outputs": [],
   "source": [
    "venda = {'data': ['14/12/2015', '16/06/2021'],\n",
    "         'valor': [500.90, 300.50],\n",
    "         'produto': ['Micro-ondas', 'Liquidificador'],\n",
    "         'qtde': [129, 547]\n",
    "}\n",
    "\n",
    "vendas_df = pd.DataFrame(venda)\n",
    "display(vendas_df)"
   ]
  },
  {
   "cell_type": "code",
   "execution_count": null,
   "metadata": {},
   "outputs": [],
   "source": [
    "vendas_df['desconto'] = vendas_df['valor'] * 0.1 #criando uma nova coluna a partir de valores já existentes\n",
    "vendas_df['comissão'] = 0 #criando uma nova coluna com valores padrões (não recomendado pelo Pandas)\n",
    "vendas_df.loc[:, 'imposto'] = 'cervejinha' #recomendado\n",
    "vendas_df"
   ]
  },
  {
   "cell_type": "code",
   "execution_count": null,
   "metadata": {},
   "outputs": [],
   "source": [
    "nova_linha = pd.DataFrame({\n",
    "    'data': '31/03/2022',\n",
    "    'valor': [350.99],\n",
    "    'produto': 'Cadeira escritório',\n",
    "    'qtde': [58],\n",
    "    'desconto': [350.99 * 0.1],\n",
    "    'comissão': [0],\n",
    "    'imposto': 'cervejinha' \n",
    "})\n",
    "\n",
    "vendas_df = pd.concat([vendas_df, nova_linha], ignore_index=True)\n",
    "\n",
    "#vendas_df = vendas_df.drop(2, axis = 0) #excluindo linha\n",
    "#vendas_df = vendas_df.drop(3, axis = 1) #excluindo coluna\n",
    "vendas_df"
   ]
  },
  {
   "cell_type": "code",
   "execution_count": null,
   "metadata": {},
   "outputs": [],
   "source": [
    "print(vendas_df.index)"
   ]
  },
  {
   "cell_type": "code",
   "execution_count": null,
   "metadata": {},
   "outputs": [],
   "source": [
    "#for i in vendas_df.index:\n",
    "vendas_df.loc[1, 'comissão'] = 1500000.0;\n",
    "#vendas_df.drop(vendas_df.columns[7], axis=1, inplace=True) #apagando coluna\n",
    "#vendas_df.drop(3, axis=0, inplace=True) #apagando 4° linha\n",
    "display(vendas_df)"
   ]
  },
  {
   "cell_type": "code",
   "execution_count": null,
   "metadata": {},
   "outputs": [],
   "source": [
    "vendas_df.info()"
   ]
  },
  {
   "cell_type": "code",
   "execution_count": null,
   "metadata": {},
   "outputs": [],
   "source": [
    "def convert_to_str(budget):\n",
    "    if isinstance(budget, (int, float)):\n",
    "        if budget >= 1_000_000:  # Se for maior ou igual a 1 milhão\n",
    "            return f\"{budget / 1_000_000:.1f}M\".replace(\".0\", \"\")  # Converte para \"M\"\n",
    "        elif budget >= 1_000:  # Se for maior ou igual a 1 milhar\n",
    "            return f\"{budget / 1_000:.1f}K\".replace(\".0\", \"\")  # Converte para \"K\"\n",
    "        else:\n",
    "            return str(int(budget))  # Mantém como número inteiro\n",
    "    return str(budget)  # Se já for string, retorna sem alteração\n",
    "\n",
    "# Aplicando a conversão à coluna \"Votes\"\n",
    "vendas_df[\"comissão\"] = vendas_df[\"comissão\"].apply(convert_to_str)\n",
    "\n",
    "# Agora, \"Votes\" é uma coluna de strings no formato desejado!\n",
    "print(vendas_df[\"comissão\"])"
   ]
  },
  {
   "cell_type": "code",
   "execution_count": null,
   "metadata": {},
   "outputs": [],
   "source": [
    "display(vendas_df)"
   ]
  }
 ],
 "metadata": {
  "language_info": {
   "name": "python"
  }
 },
 "nbformat": 4,
 "nbformat_minor": 2
}
